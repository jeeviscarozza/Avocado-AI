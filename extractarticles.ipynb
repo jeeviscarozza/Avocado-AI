{
 "cells": [
  {
   "cell_type": "code",
   "execution_count": 93,
   "metadata": {},
   "outputs": [],
   "source": [
    "import requests\n",
    "from bs4 import BeautifulSoup\n",
    "from selenium import webdriver\n",
    "from selenium.webdriver.chrome.service import Service\n",
    "from selenium.webdriver.common.by import By\n",
    "from selenium.webdriver.chrome.options import Options\n",
    "from selenium.webdriver.support import expected_conditions as EC\n",
    "import pandas as pd\n",
    "import json\n",
    "import time"
   ]
  },
  {
   "cell_type": "code",
   "execution_count": 108,
   "metadata": {},
   "outputs": [],
   "source": [
    "website = \"https://flo.health/menstrual-cycle\""
   ]
  },
  {
   "cell_type": "code",
   "execution_count": 96,
   "metadata": {},
   "outputs": [],
   "source": [
    "def fetch_html_content(url):\n",
    "    options = Options()\n",
    "    options.add_argument('--headless')\n",
    "    options.add_argument('--disable-gpu')\n",
    "    service = Service('/usr/local/bin/chromedriver') \n",
    "    driver = webdriver.Chrome(service=service, options=options)\n",
    "    driver.get(url)\n",
    "    time.sleep(10)\n",
    "    html_content = driver.page_source\n",
    "    driver.quit()\n",
    "    return html_content"
   ]
  },
  {
   "cell_type": "code",
   "execution_count": 84,
   "metadata": {},
   "outputs": [],
   "source": [
    "def get_article_links(website):\n",
    "    html_content = fetch_html_content(website)\n",
    "    soup = BeautifulSoup(html_content, 'html.parser')\n",
    "    links = []\n",
    "    \n",
    "    for a in soup.find_all('h3', class_='flo-categories__article-title'):\n",
    "        parent_link = a.find_parent('a', href=True) \n",
    "        if parent_link:\n",
    "            href = parent_link['href']\n",
    "            if href and href.startswith('/menstrual-cycle/'):\n",
    "                links.append(f\"https://flo.health{href}\")\n",
    "    return links[:5]"
   ]
  },
  {
   "cell_type": "code",
   "execution_count": 85,
   "metadata": {},
   "outputs": [
    {
     "name": "stdout",
     "output_type": "stream",
     "text": [
      "['https://flo.health/menstrual-cycle/health/ovulation/nipple-sensitivity-after-ovulation', 'https://flo.health/menstrual-cycle/health/follicular-phase', 'https://flo.health/menstrual-cycle/health/luteal-phase', 'https://flo.health/menstrual-cycle/health/ovulation/what-is-ovulation', 'https://flo.health/menstrual-cycle/sex/sexual-health/sex-on-period']\n"
     ]
    }
   ],
   "source": [
    "article_links = get_article_links(website)\n",
    "print(article_links)"
   ]
  },
  {
   "cell_type": "markdown",
   "metadata": {},
   "source": []
  },
  {
   "cell_type": "code",
   "execution_count": 101,
   "metadata": {},
   "outputs": [
    {
     "name": "stdout",
     "output_type": "stream",
     "text": [
      "Title: Sensitive nipples after ovulation: What does it mean?\n",
      "URL: https://flo.health/menstrual-cycle/health/ovulation/nipple-sensitivity-after-ovulation\n",
      "Date: 24 July 2024\n",
      "Content Preview: Changes in the way yourboobs and nipples lookand feel throughout the month can be confusing and uncomfortable. However, it’s not uncommon to experiencebreast pain or nipple sensitivityat different poi...\n",
      "{'title': 'Sensitive nipples after ovulation: What does it mean?', 'url': 'https://flo.health/menstrual-cycle/health/ovulation/nipple-sensitivity-after-ovulation', 'publication_date': '24 July 2024', 'content': 'Changes in the way yourboobs and nipples lookand feel throughout the month can be confusing and uncomfortable. However, it’s not uncommon to experiencebreast pain or nipple sensitivityat different points in your cycle. You may be able to attribute this tohormone changes. Knowing what can be considered typical and when pain or sensitivity might be something to worry about can be difficult. So, here’s everything you need to know about breast pain andnipple sensitivity, particularly afterovulation.'}\n"
     ]
    }
   ],
   "source": [
    "def article_contents(article_url):\n",
    "    html_content = fetch_html_content(article_url)\n",
    "    soup = BeautifulSoup(html_content, 'html.parser')\n",
    "    \n",
    "  \n",
    "    title_tag = soup.find('h1')  # Adjust the tag based on actual HTML\n",
    "    title = title_tag.get_text(strip=True) if title_tag else 'No title'\n",
    "    \n",
    "\n",
    "    date_container = soup.find('div', class_='flo-article-banner-bottom__info-panel-date--item')  \n",
    "    date_tag = date_container.find('span')  # Adjust the tag based on actual HTML\n",
    "    date = date_tag.get_text(strip=True) if date_tag else 'No date'\n",
    "    \n",
    "\n",
    "    content_tag = soup.find('section', class_='flo-article-text')  # Adjust the class name based on actual HTML\n",
    "    content = []\n",
    "    if content_tag:\n",
    "        for paragraph in content_tag.find_all('p'):\n",
    "            content.append(paragraph.get_text(strip=True))\n",
    "    content = \" \".join(content) if content else 'No content'\n",
    "    # Print the extracted information for debugging\n",
    "    print(f\"Title: {title}\")\n",
    "    print(f\"URL: {article_url}\")\n",
    "    print(f\"Date: {date}\")\n",
    "    print(f\"Content Preview: {content[:200]}...\")  # Print a preview of the content\n",
    "    \n",
    "    return {\n",
    "        'title': title,\n",
    "        'url': article_url,\n",
    "        'publication_date': date,\n",
    "        'content': content\n",
    "    }\n",
    "\n",
    "# Test the function with one article URL\n",
    "article_url = \"https://flo.health/menstrual-cycle/health/ovulation/nipple-sensitivity-after-ovulation\"\n",
    "article_data = article_contents(article_url)\n",
    "print(article_data)"
   ]
  },
  {
   "cell_type": "code",
   "execution_count": 109,
   "metadata": {},
   "outputs": [
    {
     "name": "stdout",
     "output_type": "stream",
     "text": [
      "Article links: ['https://flo.health/menstrual-cycle/health/ovulation/nipple-sensitivity-after-ovulation', 'https://flo.health/menstrual-cycle/health/follicular-phase', 'https://flo.health/menstrual-cycle/health/luteal-phase', 'https://flo.health/menstrual-cycle/health/ovulation/what-is-ovulation', 'https://flo.health/menstrual-cycle/sex/sexual-health/sex-on-period']\n"
     ]
    }
   ],
   "source": [
    "article_links = get_article_links(website)\n",
    "print(f\"Article links: {article_links}\")"
   ]
  },
  {
   "cell_type": "code",
   "execution_count": 107,
   "metadata": {},
   "outputs": [
    {
     "name": "stdout",
     "output_type": "stream",
     "text": [
      "Title: Sensitive nipples after ovulation: What does it mean?\n",
      "URL: https://flo.health/menstrual-cycle/health/ovulation/nipple-sensitivity-after-ovulation\n",
      "Date: 24 July 2024\n",
      "Content Preview: Changes in the way yourboobs and nipples lookand feel throughout the month can be confusing and uncomfortable. However, it’s not uncommon to experiencebreast pain or nipple sensitivityat different poi...\n",
      "{'title': 'Sensitive nipples after ovulation: What does it mean?', 'url': 'https://flo.health/menstrual-cycle/health/ovulation/nipple-sensitivity-after-ovulation', 'publication_date': '24 July 2024', 'content': 'Changes in the way yourboobs and nipples lookand feel throughout the month can be confusing and uncomfortable. However, it’s not uncommon to experiencebreast pain or nipple sensitivityat different points in your cycle. You may be able to attribute this tohormone changes. Knowing what can be considered typical and when pain or sensitivity might be something to worry about can be difficult. So, here’s everything you need to know about breast pain andnipple sensitivity, particularly afterovulation.'}\n",
      "Title: What is the follicular phase? Know your cycle and symptoms\n",
      "URL: https://flo.health/menstrual-cycle/health/follicular-phase\n",
      "Date: 09 July 2024\n",
      "Content Preview: You might often think aboutyour cycleas being broken up by the big events that happen during it, likeyour periodorovulation. However, did you know that your cycle can be split up intotwo distinct phas...\n",
      "{'title': 'What is the follicular phase? Know your cycle and symptoms', 'url': 'https://flo.health/menstrual-cycle/health/follicular-phase', 'publication_date': '09 July 2024', 'content': 'You might often think aboutyour cycleas being broken up by the big events that happen during it, likeyour periodorovulation. However, did you know that your cycle can be split up intotwo distinct phases, and, due to hormone changes, you might noticedifferent signs and symptomsthroughout? The first phase of your menstrual cycle is calledthe follicular phase. It begins on the first day ofyour period and ends at ovulation(when one of your ovaries releases an egg). In this phase, you might feel more energized, and your sex drive could be higher. But why is that? Here’s the lowdown on your follicular phase with expert advice from an obstetrician and gynecologist and why you might feel different during this part of your cycle.'}\n",
      "Title: What is the luteal phase? Know your cycle and symptoms\n",
      "URL: https://flo.health/menstrual-cycle/health/luteal-phase\n",
      "Date: 10 July 2024\n",
      "Content Preview: When you talk aboutyour cycle, you may just think aboutyour period. However, it’s so much more than that. Your menstrual cycle can be split up intotwo phases: yourfollicular phaseand your luteal phase...\n",
      "{'title': 'What is the luteal phase? Know your cycle and symptoms', 'url': 'https://flo.health/menstrual-cycle/health/luteal-phase', 'publication_date': '10 July 2024', 'content': 'When you talk aboutyour cycle, you may just think aboutyour period. However, it’s so much more than that. Your menstrual cycle can be split up intotwo phases: yourfollicular phaseand your luteal phase. Yourperiod marks the beginningof a new cycle, but there are lots of other things that happen during these phases of your cycle too. Coming to grips with the different phases of your cycle can help you tounderstand your body better. The second phase of your menstrual cycle is calledthe luteal phase(you can read a deep dive into thefirst phase of your cycle here). It begins on the first day after one ofyour ovaries releases an egg(known as ovulation) and ends on the day just beforeyour period starts again. While the follicular phase is characterized byyour body preparing for ovulation, your luteal phase is when you might experience some of the symptoms ofpremenstrual syndrome (PMS), includingmood swings, breast tenderness, andfatigue before your period. Here’s everything you need to know about the second part of your cycle.'}\n",
      "Title: What does ovulation feel like? 9 ovulation signs and symptoms\n",
      "URL: https://flo.health/menstrual-cycle/health/ovulation/what-is-ovulation\n",
      "Date: 26 September 2023\n",
      "Content Preview: Whether you’re trying to conceive or simply want to understand your own body better, learning about ovulation is a great place to start. But what exactly is ovulation, and what telltale signs and symp...\n",
      "{'title': 'What does ovulation feel like? 9 ovulation signs and symptoms', 'url': 'https://flo.health/menstrual-cycle/health/ovulation/what-is-ovulation', 'publication_date': '26 September 2023', 'content': 'Whether you’re trying to conceive or simply want to understand your own body better, learning about ovulation is a great place to start. But what exactly is ovulation, and what telltale signs and symptoms might your body give you that it’s taking place? Read on to find out more.'}\n",
      "Title: Can you have sex on your period?\n",
      "URL: https://flo.health/menstrual-cycle/sex/sexual-health/sex-on-period\n",
      "Date: 08 March 2024\n",
      "Content Preview: Being onyour perioddoesn’t mean you have to put a pause onyour sex lifeif you don’t want to. While you may want to consideryour periodby changing your sheets or protecting them with a towel, there are...\n",
      "{'title': 'Can you have sex on your period?', 'url': 'https://flo.health/menstrual-cycle/sex/sexual-health/sex-on-period', 'publication_date': '08 March 2024', 'content': 'Being onyour perioddoesn’t mean you have to put a pause onyour sex lifeif you don’t want to. While you may want to consideryour periodby changing your sheets or protecting them with a towel, there are actuallysome benefits to getting intimateat this time in your cycle. Whether you want to make it a regular part of your sex life or not is a totally personal decision. So here’s the lowdown on period sex, from how toapproach it with your partnerto why it mightalleviate some of your premenstrual symptoms.'}\n"
     ]
    }
   ],
   "source": [
    "\n",
    "articles = []\n",
    "for link in article_links:\n",
    "    content = article_contents(link)\n",
    "    articles.append(content)\n",
    "    print(content)"
   ]
  },
  {
   "cell_type": "markdown",
   "metadata": {},
   "source": []
  },
  {
   "cell_type": "code",
   "execution_count": null,
   "metadata": {},
   "outputs": [],
   "source": []
  }
 ],
 "metadata": {
  "kernelspec": {
   "display_name": "avo",
   "language": "python",
   "name": "python3"
  },
  "language_info": {
   "codemirror_mode": {
    "name": "ipython",
    "version": 3
   },
   "file_extension": ".py",
   "mimetype": "text/x-python",
   "name": "python",
   "nbconvert_exporter": "python",
   "pygments_lexer": "ipython3",
   "version": "3.10.10"
  }
 },
 "nbformat": 4,
 "nbformat_minor": 2
}
