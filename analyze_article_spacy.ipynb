{
 "cells": [
  {
   "cell_type": "code",
   "execution_count": 73,
   "metadata": {},
   "outputs": [],
   "source": [
    "import json\n",
    "import spacy\n",
    "from keybert import KeyBERT\n",
    "import medspacy\n",
    "from medspacy.preprocess import PreprocessingRule, Preprocessor\n",
    "from medspacy.ner import TargetRule\n",
    "from medspacy.context import ConTextRule\n",
    "from medspacy.section_detection import Sectionizer\n",
    "from medspacy.postprocess import PostprocessingRule, PostprocessingPattern, Postprocessor\n",
    "from medspacy.postprocess import postprocessing_functions\n",
    "from medspacy.visualization import visualize_ent, visualize_dep\n",
    "from medspacy.ner import TargetMatcher"
   ]
  },
  {
   "cell_type": "code",
   "execution_count": 74,
   "metadata": {},
   "outputs": [
    {
     "name": "stdout",
     "output_type": "stream",
     "text": [
      "['medspacy_pyrush', 'medspacy_target_matcher', 'medspacy_context']\n",
      "{'TREATMENT', 'SYMPTOM', 'HORMONE', 'CONCEPT', 'CONDITION'}\n"
     ]
    }
   ],
   "source": [
    "# Load medspacy model\n",
    "nlp = medspacy.load()\n",
    "target_matcher = nlp.get_pipe(\"medspacy_target_matcher\")\n",
    "target_rules = [\n",
    "    # Symptoms\n",
    "    TargetRule(\"cramping\", \"SYMPTOM\"),\n",
    "    TargetRule(\"mood swings\", \"SYMPTOM\"),\n",
    "    TargetRule(\"fatigue\", \"SYMPTOM\"),\n",
    "    TargetRule(\"headaches\", \"SYMPTOM\"),\n",
    "    TargetRule(\"breast tenderness\", \"SYMPTOM\"),\n",
    "    TargetRule(\"nausea\", \"SYMPTOM\"),\n",
    "\n",
    "    # Conditions\n",
    "    TargetRule(\"menstrual cramps\", \"CONDITION\"),\n",
    "    TargetRule(\"endometriosis\", \"CONDITION\"),\n",
    "    TargetRule(\"polycystic ovary syndrome\", \"CONDITION\", pattern=[\n",
    "        {\"LOWER\": \"pcos\"}\n",
    "    ]),\n",
    "    TargetRule(\"uterine fibroids\", \"CONDITION\"),\n",
    "    TargetRule(\"irregular periods\", \"CONDITION\"),\n",
    "    TargetRule(\"menopause\", \"CONDITION\"),\n",
    "    TargetRule(\"premenstrual syndrome\", \"CONDITION\", pattern=[\n",
    "        {\"LOWER\": \"pms\"}\n",
    "    ]),\n",
    "    TargetRule(\"premenstrual dysphoric disorder\", \"CONDITION\", pattern=[\n",
    "        {\"LOWER\": \"pmdd\"}\n",
    "    ]),\n",
    "    TargetRule(\"dysmenorrhea\", \"CONDITION\"),\n",
    "    TargetRule(\"amenorrhea\", \"CONDITION\"),\n",
    "    TargetRule(\"oligomenorrhea\", \"CONDITION\"),\n",
    "    TargetRule(\"menorrhagia\", \"CONDITION\"),\n",
    "    TargetRule(\"metrorrhagia\", \"CONDITION\"),\n",
    "    TargetRule(\"dyspareunia\", \"CONDITION\"),\n",
    "    TargetRule(\"vaginismus\", \"CONDITION\"),\n",
    "    TargetRule(\"vulvodynia\", \"CONDITION\"),\n",
    "    TargetRule(\"vaginitis\", \"CONDITION\"),\n",
    "    TargetRule(\"cervicitis\", \"CONDITION\"),\n",
    "    TargetRule(\"pelvic inflammatory disease\", \"CONDITION\", pattern=[\n",
    "        {\"LOWER\": \"pid\"}\n",
    "    ]), \n",
    "    TargetRule(\"bacterial vaginosis\", \"CONDITION\", pattern=[\n",
    "        {\"LOWER\": \"bv\"}\n",
    "    ]),\n",
    "    TargetRule(\"yeast infection\", \"CONDITION\"),\n",
    "    TargetRule(\"cervical dysplasia\", \"CONDITION\"),\n",
    "    TargetRule(\"cervical cancer\", \"CONDITION\"),\n",
    "    TargetRule(\"ovarian cysts\", \"CONDITION\"),\n",
    "    TargetRule(\"ovarian cancer\", \"CONDITION\"),\n",
    "    TargetRule(\"breast cancer\", \"CONDITION\"),\n",
    "    TargetRule(\"infertility\", \"CONDITION\"),\n",
    "    TargetRule(\"ectopic pregnancy\", \"CONDITION\"),\n",
    "    TargetRule(\"miscarriage\", \"CONDITION\"),\n",
    "    TargetRule(\"stillbirth\", \"CONDITION\"),\n",
    "    TargetRule(\"preterm birth\", \"CONDITION\"),\n",
    "    TargetRule(\"low birth weight\", \"CONDITION\"),\n",
    "    TargetRule(\"preeclampsia\", \"CONDITION\"),\n",
    "    TargetRule(\"gestational diabetes\", \"CONDITION\"),\n",
    "    TargetRule(\"postpartum depression\", \"CONDITION\"),\n",
    "    TargetRule(\"postpartum psychosis\", \"CONDITION\"),\n",
    "    TargetRule(\"postpartum thyroiditis\", \"CONDITION\"),\n",
    "    TargetRule(\"postpartum hemorrhage\", \"CONDITION\"),\n",
    "    TargetRule(\"postpartum preeclampsia\", \"CONDITION\"),\n",
    "    TargetRule(\"postpartum eclampsia\", \"CONDITION\"),\n",
    "    TargetRule(\"postpartum cardiomyopathy\", \"CONDITION\"),\n",
    "    TargetRule(\"postpartum infections\", \"CONDITION\"),\n",
    "    TargetRule(\"postpartum psychosis\", \"CONDITION\"),\n",
    "    TargetRule(\"postpartum anxiety\", \"CONDITION\"),\n",
    "    TargetRule(\"postpartum OCD\", \"CONDITION\"),\n",
    "    TargetRule(\"postpartum PTSD\", \"CONDITION\"),\n",
    "    TargetRule(\"postpartum bipolar disorder\", \"CONDITION\"),\n",
    "    TargetRule(\"postpartum schizophrenia\", \"CONDITION\"),\n",
    "    TargetRule(\"postpartum mania\", \"CONDITION\"),\n",
    "    TargetRule(\"postpartum hypomania\", \"CONDITION\"),\n",
    "    TargetRule(\"postpartum depression\", \"CONDITION\"),\n",
    "    TargetRule(\"postpartum anxiety\", \"CONDITION\"),\n",
    "    TargetRule(\"postpartum OCD\", \"CONDITION\"),\n",
    "    \n",
    "\n",
    "    # Hormones\n",
    "    TargetRule(\"estrogen\", \"HORMONE\"),\n",
    "    TargetRule(\"progesterone\", \"HORMONE\"),\n",
    "    TargetRule(\"follicle-stimulating hormone\", \"HORMONE\", pattern=[\n",
    "        {\"LOWER\": \"fsh\"}\n",
    "    ]),\n",
    "    TargetRule(\"luteinizing hormone\", \"HORMONE\", pattern=[\n",
    "        {\"LOWER\": \"lh\"}\n",
    "    ]),\n",
    "\n",
    "    # Treatments/Medications\n",
    "    TargetRule(\"birth control\", \"TREATMENT\"),\n",
    "    TargetRule(\"hormone replacement therapy\", \"TREATMENT\"),\n",
    "    TargetRule(\"pain relievers\", \"TREATMENT\"),\n",
    "    TargetRule(\"antidepressants\", \"TREATMENT\"),\n",
    "\n",
    "    # General Concepts\n",
    "    TargetRule(\"menstruation\", \"CONCEPT\"),\n",
    "    TargetRule(\"contraception\", \"CONCEPT\"),\n",
    "    TargetRule(\"pregnancy\", \"CONCEPT\"),\n",
    "    TargetRule(\"ovulation\", \"CONCEPT\")\n",
    "]\n",
    "target_matcher.add(target_rules)\n",
    "print(nlp.pipe_names)\n",
    "print(nlp.get_pipe(\"medspacy_target_matcher\").labels)"
   ]
  },
  {
   "cell_type": "code",
   "execution_count": 75,
   "metadata": {},
   "outputs": [],
   "source": [
    "text = \"\"\" What is PMS, and how can you manage the symptoms? Here’s the lowdown on getting your life back on track.\n",
    "\n",
    "Hands up if you regularly feel bloated, moody, hungry, tired, or a whole host of other irritating symptoms right before your period? Turns out, there could be a reason for that. Here we explore everything you need to know about premenstrual syndrome (PMS), from symptoms to treatment options.\n",
    "\n",
    "Key takeaways\n",
    "PMS is the umbrella term for the physical and emotional symptoms that can show up before your period.\n",
    "Symptoms of PMS vary from person to person, but they can include bloating, food cravings, fatigue, and mood swings.\n",
    "PMS symptoms usually start one to two weeks before your period and ease within four days of it starting.\n",
    "Exercise, getting enough sleep, eating a balanced diet, and hormonal birth control can all help to manage symptoms of PMS.\n",
    "Premenstrual syndrome: What is it? \n",
    "PMS is a group of different symptoms that occur a week or two before your period starts.\n",
    "\n",
    "These symptoms can vary from person to person and can be physical, emotional, or a combination of both; more on these later.\n",
    "\n",
    "PMS is often the butt of the joke, and it's become a bit of a stereotype that it makes women and people who menstruate “emotional.” It’s important to challenge this belief because it can trivialize PMS and make it hard for people who are struggling with PMS to feel heard.\n",
    "\n",
    "If you have periods, it’s important to know the signs of PMS and how to deal with them. Keep reading to learn more.\n",
    "\n",
    "What causes PMS?\n",
    "It’s not entirely clear why some people experience PMS, but it’s likely due to the hormonal changes that happen during the menstrual cycle. These changes affect each person differently, so some people may experience more severe symptoms than others. Like many aspects of female health, PMS still isn’t completely understood, and we need more research to understand the exact cause.\n",
    "\n",
    "How common is PMS?\n",
    "PMS is pretty common. In fact, around 75% of women experience symptoms of PMS, so if you’re one of them, take some comfort in knowing that you’re definitely not alone.\n",
    "\"\"\"\n",
    "doc = nlp(text)"
   ]
  },
  {
   "cell_type": "code",
   "execution_count": 76,
   "metadata": {},
   "outputs": [
    {
     "name": "stdout",
     "output_type": "stream",
     "text": [
      "PMS CONDITION\n",
      "PMS CONDITION\n",
      "PMS CONDITION\n",
      "PMS CONDITION\n",
      "fatigue SYMPTOM\n",
      "mood swings SYMPTOM\n",
      "PMS CONDITION\n",
      "birth control TREATMENT\n",
      "PMS CONDITION\n",
      "PMS CONDITION\n",
      "PMS CONDITION\n",
      "PMS CONDITION\n",
      "PMS CONDITION\n",
      "PMS CONDITION\n",
      "PMS CONDITION\n",
      "PMS CONDITION\n",
      "PMS CONDITION\n",
      "PMS CONDITION\n",
      "PMS CONDITION\n",
      "PMS CONDITION\n"
     ]
    }
   ],
   "source": [
    "# Print entities recognized by SpaCy\n",
    "for ent in doc.ents:\n",
    "    print(ent.text, ent.label_)"
   ]
  },
  {
   "cell_type": "code",
   "execution_count": 77,
   "metadata": {},
   "outputs": [
    {
     "data": {
      "text/html": [
       "<span class=\"tex2jax_ignore\"><div class=\"entities\" style=\"line-height: 2.5; direction: ltr\"> What is \n",
       "<mark class=\"entity\" style=\"background: #9467bd; padding: 0.45em 0.6em; margin: 0 0.25em; line-height: 1; border-radius: 0.35em;\">\n",
       "    PMS\n",
       "    <span style=\"font-size: 0.8em; font-weight: bold; line-height: 1; border-radius: 0.35em; vertical-align: middle; margin-left: 0.5rem\">CONDITION</span>\n",
       "</mark>\n",
       ", and how can you manage the symptoms? Here’s the lowdown on getting your life back on track.</br></br>Hands up if you regularly feel bloated, moody, hungry, tired, or a whole host of other irritating symptoms right before your period? Turns out, there could be a reason for that. Here we explore everything you need to know about premenstrual syndrome (\n",
       "<mark class=\"entity\" style=\"background: #9467bd; padding: 0.45em 0.6em; margin: 0 0.25em; line-height: 1; border-radius: 0.35em;\">\n",
       "    PMS\n",
       "    <span style=\"font-size: 0.8em; font-weight: bold; line-height: 1; border-radius: 0.35em; vertical-align: middle; margin-left: 0.5rem\">CONDITION</span>\n",
       "</mark>\n",
       "), from symptoms to treatment options.</br></br>Key takeaways</br>\n",
       "<mark class=\"entity\" style=\"background: #9467bd; padding: 0.45em 0.6em; margin: 0 0.25em; line-height: 1; border-radius: 0.35em;\">\n",
       "    PMS\n",
       "    <span style=\"font-size: 0.8em; font-weight: bold; line-height: 1; border-radius: 0.35em; vertical-align: middle; margin-left: 0.5rem\">CONDITION</span>\n",
       "</mark>\n",
       " is the umbrella term for the physical and emotional symptoms that can show up before your period.</br>Symptoms of \n",
       "<mark class=\"entity\" style=\"background: #9467bd; padding: 0.45em 0.6em; margin: 0 0.25em; line-height: 1; border-radius: 0.35em;\">\n",
       "    PMS\n",
       "    <span style=\"font-size: 0.8em; font-weight: bold; line-height: 1; border-radius: 0.35em; vertical-align: middle; margin-left: 0.5rem\">CONDITION</span>\n",
       "</mark>\n",
       " vary from person to person, but they can include bloating, food cravings, \n",
       "<mark class=\"entity\" style=\"background: #2ca02c; padding: 0.45em 0.6em; margin: 0 0.25em; line-height: 1; border-radius: 0.35em;\">\n",
       "    fatigue\n",
       "    <span style=\"font-size: 0.8em; font-weight: bold; line-height: 1; border-radius: 0.35em; vertical-align: middle; margin-left: 0.5rem\">SYMPTOM</span>\n",
       "</mark>\n",
       ", and \n",
       "<mark class=\"entity\" style=\"background: #2ca02c; padding: 0.45em 0.6em; margin: 0 0.25em; line-height: 1; border-radius: 0.35em;\">\n",
       "    mood swings\n",
       "    <span style=\"font-size: 0.8em; font-weight: bold; line-height: 1; border-radius: 0.35em; vertical-align: middle; margin-left: 0.5rem\">SYMPTOM</span>\n",
       "</mark>\n",
       ".</br>\n",
       "<mark class=\"entity\" style=\"background: #9467bd; padding: 0.45em 0.6em; margin: 0 0.25em; line-height: 1; border-radius: 0.35em;\">\n",
       "    PMS\n",
       "    <span style=\"font-size: 0.8em; font-weight: bold; line-height: 1; border-radius: 0.35em; vertical-align: middle; margin-left: 0.5rem\">CONDITION</span>\n",
       "</mark>\n",
       " symptoms usually start one to two weeks before your period and ease within four days of it starting.</br>Exercise, getting enough sleep, eating a balanced diet, and hormonal \n",
       "<mark class=\"entity\" style=\"background: #1f77b4; padding: 0.45em 0.6em; margin: 0 0.25em; line-height: 1; border-radius: 0.35em;\">\n",
       "    birth control\n",
       "    <span style=\"font-size: 0.8em; font-weight: bold; line-height: 1; border-radius: 0.35em; vertical-align: middle; margin-left: 0.5rem\">TREATMENT</span>\n",
       "</mark>\n",
       " can all help to manage symptoms of \n",
       "<mark class=\"entity\" style=\"background: #9467bd; padding: 0.45em 0.6em; margin: 0 0.25em; line-height: 1; border-radius: 0.35em;\">\n",
       "    PMS\n",
       "    <span style=\"font-size: 0.8em; font-weight: bold; line-height: 1; border-radius: 0.35em; vertical-align: middle; margin-left: 0.5rem\">CONDITION</span>\n",
       "</mark>\n",
       ".</br>Premenstrual syndrome: What is it? </br>\n",
       "<mark class=\"entity\" style=\"background: #9467bd; padding: 0.45em 0.6em; margin: 0 0.25em; line-height: 1; border-radius: 0.35em;\">\n",
       "    PMS\n",
       "    <span style=\"font-size: 0.8em; font-weight: bold; line-height: 1; border-radius: 0.35em; vertical-align: middle; margin-left: 0.5rem\">CONDITION</span>\n",
       "</mark>\n",
       " is a group of different symptoms that occur a week or two before your period starts.</br></br>These symptoms can vary from person to person and can be physical, emotional, or a combination of both; more on these later.</br></br>\n",
       "<mark class=\"entity\" style=\"background: #9467bd; padding: 0.45em 0.6em; margin: 0 0.25em; line-height: 1; border-radius: 0.35em;\">\n",
       "    PMS\n",
       "    <span style=\"font-size: 0.8em; font-weight: bold; line-height: 1; border-radius: 0.35em; vertical-align: middle; margin-left: 0.5rem\">CONDITION</span>\n",
       "</mark>\n",
       " is often the butt of the joke, and it's become a bit of a stereotype that it makes women and people who menstruate “emotional.” It’s important to challenge this belief because it can trivialize \n",
       "<mark class=\"entity\" style=\"background: #9467bd; padding: 0.45em 0.6em; margin: 0 0.25em; line-height: 1; border-radius: 0.35em;\">\n",
       "    PMS\n",
       "    <span style=\"font-size: 0.8em; font-weight: bold; line-height: 1; border-radius: 0.35em; vertical-align: middle; margin-left: 0.5rem\">CONDITION</span>\n",
       "</mark>\n",
       " and make it hard for people who are struggling with \n",
       "<mark class=\"entity\" style=\"background: #9467bd; padding: 0.45em 0.6em; margin: 0 0.25em; line-height: 1; border-radius: 0.35em;\">\n",
       "    PMS\n",
       "    <span style=\"font-size: 0.8em; font-weight: bold; line-height: 1; border-radius: 0.35em; vertical-align: middle; margin-left: 0.5rem\">CONDITION</span>\n",
       "</mark>\n",
       " to feel heard.</br></br>\n",
       "<mark class=\"entity\" style=\"background: #d62728; padding: 0.45em 0.6em; margin: 0 0.25em; line-height: 1; border-radius: 0.35em;\">\n",
       "    If\n",
       "    <span style=\"font-size: 0.8em; font-weight: bold; line-height: 1; border-radius: 0.35em; vertical-align: middle; margin-left: 0.5rem\">HYPOTHETICAL</span>\n",
       "</mark>\n",
       " you have periods, it’s important to know the signs of \n",
       "<mark class=\"entity\" style=\"background: #9467bd; padding: 0.45em 0.6em; margin: 0 0.25em; line-height: 1; border-radius: 0.35em;\">\n",
       "    PMS\n",
       "    <span style=\"font-size: 0.8em; font-weight: bold; line-height: 1; border-radius: 0.35em; vertical-align: middle; margin-left: 0.5rem\">CONDITION</span>\n",
       "</mark>\n",
       " and how to deal with them. Keep reading to learn more.</br></br>What causes \n",
       "<mark class=\"entity\" style=\"background: #9467bd; padding: 0.45em 0.6em; margin: 0 0.25em; line-height: 1; border-radius: 0.35em;\">\n",
       "    PMS\n",
       "    <span style=\"font-size: 0.8em; font-weight: bold; line-height: 1; border-radius: 0.35em; vertical-align: middle; margin-left: 0.5rem\">CONDITION</span>\n",
       "</mark>\n",
       "?</br>It’s \n",
       "<mark class=\"entity\" style=\"background: #ff7f0e; padding: 0.45em 0.6em; margin: 0 0.25em; line-height: 1; border-radius: 0.35em;\">\n",
       "    not\n",
       "    <span style=\"font-size: 0.8em; font-weight: bold; line-height: 1; border-radius: 0.35em; vertical-align: middle; margin-left: 0.5rem\">NEGATED_EXISTENCE</span>\n",
       "</mark>\n",
       " entirely clear why some people experience \n",
       "<mark class=\"entity\" style=\"background: #9467bd; padding: 0.45em 0.6em; margin: 0 0.25em; line-height: 1; border-radius: 0.35em;\">\n",
       "    PMS\n",
       "    <span style=\"font-size: 0.8em; font-weight: bold; line-height: 1; border-radius: 0.35em; vertical-align: middle; margin-left: 0.5rem\">CONDITION</span>\n",
       "</mark>\n",
       ", but it’s likely due to the hormonal changes that happen during the menstrual cycle. These changes affect each person differently, so some people may experience more severe symptoms than others. Like many aspects of female health, \n",
       "<mark class=\"entity\" style=\"background: #9467bd; padding: 0.45em 0.6em; margin: 0 0.25em; line-height: 1; border-radius: 0.35em;\">\n",
       "    PMS\n",
       "    <span style=\"font-size: 0.8em; font-weight: bold; line-height: 1; border-radius: 0.35em; vertical-align: middle; margin-left: 0.5rem\">CONDITION</span>\n",
       "</mark>\n",
       " still isn’t completely understood, and we need more research to understand the exact cause.</br></br>How common is \n",
       "<mark class=\"entity\" style=\"background: #9467bd; padding: 0.45em 0.6em; margin: 0 0.25em; line-height: 1; border-radius: 0.35em;\">\n",
       "    PMS\n",
       "    <span style=\"font-size: 0.8em; font-weight: bold; line-height: 1; border-radius: 0.35em; vertical-align: middle; margin-left: 0.5rem\">CONDITION</span>\n",
       "</mark>\n",
       "?</br>\n",
       "<mark class=\"entity\" style=\"background: #9467bd; padding: 0.45em 0.6em; margin: 0 0.25em; line-height: 1; border-radius: 0.35em;\">\n",
       "    PMS\n",
       "    <span style=\"font-size: 0.8em; font-weight: bold; line-height: 1; border-radius: 0.35em; vertical-align: middle; margin-left: 0.5rem\">CONDITION</span>\n",
       "</mark>\n",
       " is pretty common. In fact, around 75% of women experience symptoms of \n",
       "<mark class=\"entity\" style=\"background: #9467bd; padding: 0.45em 0.6em; margin: 0 0.25em; line-height: 1; border-radius: 0.35em;\">\n",
       "    PMS\n",
       "    <span style=\"font-size: 0.8em; font-weight: bold; line-height: 1; border-radius: 0.35em; vertical-align: middle; margin-left: 0.5rem\">CONDITION</span>\n",
       "</mark>\n",
       ", so if you’re one of them, take some comfort in knowing that you’re definitely not alone.</br></div></span>"
      ],
      "text/plain": [
       "<IPython.core.display.HTML object>"
      ]
     },
     "metadata": {},
     "output_type": "display_data"
    }
   ],
   "source": [
    "visualize_ent(doc)"
   ]
  },
  {
   "cell_type": "code",
   "execution_count": 78,
   "metadata": {},
   "outputs": [
    {
     "name": "stdout",
     "output_type": "stream",
     "text": [
      "[('symptoms', 0.3415), ('menstrual', 0.3163), ('fatigue', 0.3023), ('tired', 0.3014), ('emotional', 0.2989)]\n"
     ]
    }
   ],
   "source": [
    "# now for summarization\n",
    "model = KeyBERT('distilbert-base-nli-mean-tokens')\n",
    "keywords = model.extract_keywords(text)\n",
    "print(keywords)"
   ]
  },
  {
   "cell_type": "code",
   "execution_count": 79,
   "metadata": {},
   "outputs": [
    {
     "name": "stderr",
     "output_type": "stream",
     "text": [
      "Hardware accelerator e.g. GPU is available in the environment, but no `device` argument is passed to the `Pipeline` object. Model will be on CPU.\n"
     ]
    },
    {
     "name": "stdout",
     "output_type": "stream",
     "text": [
      "PMS is a group of different symptoms that occur a week or two before your period . symptoms include bloating, food cravings, fatigue, and mood swings . around 75% of women experience symptoms of PMS .\n"
     ]
    }
   ],
   "source": [
    "from transformers import pipeline\n",
    "summarizer = pipeline(\"summarization\",model=\"t5-base\", tokenizer=\"t5-base\")\n",
    "summary = summarizer(text, max_length=200, min_length=30, do_sample=False)\n",
    "print(summary[0]['summary_text'])"
   ]
  },
  {
   "cell_type": "code",
   "execution_count": 82,
   "metadata": {},
   "outputs": [
    {
     "name": "stdout",
     "output_type": "stream",
     "text": [
      "Every piece of content at Flo Health adheres to the highest editorial standards for language, style, and medical accuracy. To learn what we do to deliver the best health and lifestyle insights to you, check outour content review principles. Breast pain and nipple sensitivity are common symptoms at different points in your cycle. Here’s what can cause it and when to speak to your doctor. Changes in the way yourboobs and nipples lookand feel throughout the month can be confusing and uncomfortable. However, it’s not uncommon to experiencebreast pain or nipple sensitivityat different points in your cycle. You may be able to attribute this tohormone changes. Knowing what can be considered typical and when pain or sensitivity might be something to worry about can be difficult. So, here’s everything you need to know about breast pain andnipple sensitivity, particularly afterovulation. Key takeaways Is it normal for nipples to be sensitive after ovulation? Before we dig into whether it’s norma\n"
     ]
    }
   ],
   "source": [
    "# trying the summmary on one of the articles I scraped\n",
    "# getting the text from contents\n",
    "\n",
    "# Load the article from a JSON file\n",
    "def load_article(file_path):\n",
    "    with open(file_path, 'r') as file:\n",
    "        articles = json.load(file)\n",
    "    return articles\n",
    "\n",
    "# Example path to your JSON file\n",
    "article_file_path = '../article_results/articles.json'\n",
    "articles = load_article(article_file_path)\n",
    "\n",
    "# Assuming you want to use the first article\n",
    "article = articles[0]\n",
    "text = article['content']\n",
    "print(text[:1000])"
   ]
  },
  {
   "cell_type": "code",
   "execution_count": 83,
   "metadata": {},
   "outputs": [
    {
     "name": "stderr",
     "output_type": "stream",
     "text": [
      "No model was supplied, defaulted to sshleifer/distilbart-cnn-12-6 and revision a4f8f3e (https://huggingface.co/sshleifer/distilbart-cnn-12-6).\n",
      "Using a pipeline without specifying a model name and revision in production is not recommended.\n",
      "Hardware accelerator e.g. GPU is available in the environment, but no `device` argument is passed to the `Pipeline` object. Model will be on CPU.\n"
     ]
    },
    {
     "name": "stdout",
     "output_type": "stream",
     "text": [
      "Summary:\n",
      " Breast pain and nipple sensitivity are common symptoms at different points in your cycle . It's not uncommon to experience breast pain or nipple sensitivity after ovulation . Not everyone who is pregnant will experience these symptoms, and not everyone will .\n"
     ]
    }
   ],
   "source": [
    "summarizer = pipeline(\"summarization\")\n",
    "\n",
    "# Generate summary\n",
    "summary = summarizer(text, max_length=150, min_length=30, length_penalty=2.0, truncation=True)\n",
    "\n",
    "# Print the summary\n",
    "print(\"Summary:\")\n",
    "print(summary[0]['summary_text'])"
   ]
  },
  {
   "cell_type": "code",
   "execution_count": 84,
   "metadata": {},
   "outputs": [
    {
     "name": "stderr",
     "output_type": "stream",
     "text": [
      "Hardware accelerator e.g. GPU is available in the environment, but no `device` argument is passed to the `Pipeline` object. Model will be on CPU.\n",
      "Asking to truncate to max_length but no maximum length is provided and the model has no predefined maximum length. Default to no truncation.\n"
     ]
    },
    {
     "name": "stdout",
     "output_type": "stream",
     "text": [
      "Summary:\n",
      "ovulation is the point in your menstrual cycle when one of your ovaries releases an egg . if your nipples feel sensitive to the touch, it can be a sign of pregnancy . it's not uncommon for a runner to experience breast pain and sensitivity at this point in their cycle .\n"
     ]
    }
   ],
   "source": [
    "summarizer = pipeline(\"summarization\",model=\"t5-base\", tokenizer=\"t5-base\")\n",
    "\n",
    "# Generate summary\n",
    "summary = summarizer(text, max_length=150, min_length=30, length_penalty=2.0, truncation=True)\n",
    "\n",
    "# Print the summary\n",
    "print(\"Summary:\")\n",
    "print(summary[0]['summary_text'])"
   ]
  },
  {
   "cell_type": "code",
   "execution_count": null,
   "metadata": {},
   "outputs": [],
   "source": []
  },
  {
   "cell_type": "code",
   "execution_count": null,
   "metadata": {},
   "outputs": [],
   "source": []
  }
 ],
 "metadata": {
  "kernelspec": {
   "display_name": "avo",
   "language": "python",
   "name": "python3"
  },
  "language_info": {
   "codemirror_mode": {
    "name": "ipython",
    "version": 3
   },
   "file_extension": ".py",
   "mimetype": "text/x-python",
   "name": "python",
   "nbconvert_exporter": "python",
   "pygments_lexer": "ipython3",
   "version": "3.10.10"
  }
 },
 "nbformat": 4,
 "nbformat_minor": 2
}
